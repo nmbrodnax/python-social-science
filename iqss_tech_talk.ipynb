{
 "cells": [
  {
   "cell_type": "markdown",
   "metadata": {},
   "source": [
    "<a id=\"top\"></a>\n",
    "# Python as a Tool for Social Scientists\n",
    "[NaLette Brodnax](http://www.nalettebrodnax.com), Postdoctoral Fellow, [IQSS](http://iq.harvard.edu)<br>\n",
    "[nbrodnax@iq.harvard.edu](mailto:nbrodnax@iq.harvard.edu)<br>\n",
    "August 24, 2017\n",
    "\n",
    "### Contents\n",
    "\n",
    "1. [Introduction](#intro)\n",
    "2. [About the Tools](#tools)\n",
    "3. [Programming Basics](#basics)<br>\n",
    "    3.1 [Data Types](#datatypes)<br>\n",
    "    3.2 [Data Structures](#datastructures)<br>\n",
    "    3.3 [Control Structures](#controlstructures)<br>\n",
    "    3.4 [Functions and Methods](#functions)<br>\n",
    "4. [Working with Files](#files)<br>\n",
    "    4.1 [Using  `open()` and `.close()`](#open)<br>\n",
    "    4.2 [Using  `with open()`](#withopen)<br>\n",
    "    4.3 [Using the `csv` module](#csv)\n",
    "    \n",
    "### File Downloads (optional)\n",
    "[hello.py](https://raw.githubusercontent.com/nmbrodnax/python-social-science/master/hello.py)<br>\n",
    "[workshop.py](https://raw.githubusercontent.com/nmbrodnax/python-social-science/master/workshop.py)<br>\n",
    "[kipling_jungle_book.txt](https://raw.githubusercontent.com/nmbrodnax/python-social-science/master/kipling_jungle_book.txt)"
   ]
  },
  {
   "cell_type": "markdown",
   "metadata": {},
   "source": [
    "<a id=\"intro\"></a>\n",
    "## 1. Introduction\n",
    "\n",
    "#### What is Python?\n",
    "Python is a general purpose programming language.  It is easy to learn, highly readable, powerful and flexible.  This notebook provides an introduction to Python and discusses challenges and strategies for using Python as a tool for computational social science.\n",
    "\n",
    "#### My Goals\n",
    "\n",
    " * Demystify programming\n",
    " * Introduce common functions\n",
    " * Demonstrate useful programs\n",
    " \n",
    "#### Your Goals\n",
    "Complete the one-minute survey at [bit.ly/iqss824](https://bit.ly/iqss824).\n",
    "\n",
    "#### When should you use Python?\n",
    "Programming should help you be more **efficient**.\n",
    "\n",
    "Social scientists can use Python for countless applications:\n",
    "\n",
    " * Data collection\n",
    " * Data cleaning\n",
    " * Data analysis\n",
    " * Visualization\n",
    " * Automation\n",
    " \n",
    "[Back to the top](#top)\n",
    "\n",
    "----------"
   ]
  },
  {
   "cell_type": "markdown",
   "metadata": {},
   "source": [
    "<a id=\"tools\"></a>\n",
    "## 2. About the Tools \n",
    "\n",
    "*Bottleneck: Many social scientists access programs and files by using a mouse to navigate a graphical user interface.  Shifting from a point-and-click workflow to a text-based workflow can be a difficult transition for new Python programmers.  For a more detailed discussion, see Kieran Healy's [The Plain Person's Guide to Plain-Text Social Science](http://plain-text.co).*\n",
    "\n",
    "#### Python Interpreter for Conversing in Python\n",
    "The Python **interpreter** is an interface between you and the underlying software that translates and responds to your Python commands.  When using the interpreter, you type Python commands directly into a console (windwo) and the console displays a response.  You may see  people refer to an interpreter as an **interactive shell** or a **REPL** (Read-Evaluate-Print Loop).  You can install Python, which comes with the interpreter, from the [Python Software Foundation](https://www.python.org/). \n",
    "\n",
    "#### Text Editor for Writing Programs\n",
    "A text editor is a tool that you can use to write commands in plain, unprocessed text.  All operating systems include a basic text editor, such as NotePad or TextEdit.  Social scientists using Python and other programming languages can use a text editor to store a set of commands.\n",
    "\n",
    "#### Command Line Interface for Interacting with Your OS\n",
    "Every operating system has a special interpreter that allows the programmer to interact with the system through text-based commands.  The **command line interface** can be used to access any programs or files available to the programmer. This text-based approach is generally more flexible and more powerful than using . \n",
    "\n",
    "### _Mise En Place_: Integrated Development Environments\n",
    "Software that combines an interpreter, text editor, and command line into an easily navigable user interface is called an **integrated development environment (IDE)**.  An IDE might also include additional tools such as a file browser or version control integration. If you install Python using installers from the [Python Software Foundation](https://www.python.org/), the installation will include a basic IDE called IDLE.\n",
    "\n",
    "[Anaconda](https://www.continuum.io/what-is-anaconda) is a data science plaform that you can [download](https://www.continuum.io/) from Continuum Analytics.  Anaconda bundles Python with an IDE called Spyder and several popular Python libraries.  Anaconda is useful because it provides several tools that data scientists would otherwise need to install and configure individually.  It also provides a graphical user interface for programmers who are less familiar or less comfortable using the command line.  However, Anaconda can be confusing to beginners who are learning Python and would benefit from a general understanding of how the most basic components of a development environment fit together.  "
   ]
  },
  {
   "cell_type": "markdown",
   "metadata": {},
   "source": [
    "### Try the Python Interpreter\n",
    "\n",
    "This webpage allows you to interact with a Python interpreter running on a web server rather than on your machine.  Web-based tools that mix prose with chunks of executable code are called **notebooks**.  This [Jupyter Notebook](http://jupyter.org/) runs Python, but notebooks can be configured for different programming languages.  Notebooks are useful for exploration and documentation and some consider them a viable alternative to IDEs.  I recommend using notebooks when working with Python interactively and using an IDE for larger projects.\n",
    "\n",
    "To run the following code, click inside the cell and then click the Run Cell button from the toolbar or Cell menu at the top of the page.  The output of the code will appear below the cell."
   ]
  },
  {
   "cell_type": "code",
   "execution_count": null,
   "metadata": {},
   "outputs": [],
   "source": [
    "print('Hello, world.')"
   ]
  },
  {
   "cell_type": "markdown",
   "metadata": {},
   "source": [
    "### Using an IDE? Create and run your first script\n",
    "\n",
    "1. Using your text editor (or the editor within your IDE), create a file named _hello.py_.\n",
    "\n",
    "2. On the first line of the text file, type<br> ```# My first Python script```<br> Python will recognize any line beginning with `#` as a **comment** and will ignore it when executing the commands in your script. Comment meaningfully and liberally--doing so makes your work easier to understand when you or your collaborators revisit the script in the future.\n",
    "\n",
    "3. On the second line, type<br>`print('Hello, world.')`\n",
    "\n",
    "4. Run the script, either from the IDE or from the command line."
   ]
  },
  {
   "cell_type": "markdown",
   "metadata": {
    "collapsed": true
   },
   "source": [
    "Throughout the tutorial, you can add code to your _hello.py_ script.  The code for all examples in Sections [2](#tools) and [3](#basics) can be found in the [hello.py](https://raw.githubusercontent.com/nmbrodnax/python-social-science/master/hello.py) file.\n",
    "\n",
    "### Getting Help\n",
    "\n",
    "There are many resources for getting help when you run into problems.  Most tools provide detailed [documentation](https://docs.python.org/3/) as well as [tutorials](https://wiki.python.org/moin/BeginnersGuide) for beginners, installation instructions, and links to programmer forums.  The site [Stack Overflow](https://stackoverflow.com/) is also helpful for specific questions.  "
   ]
  },
  {
   "cell_type": "markdown",
   "metadata": {},
   "source": [
    "[Back to the top](#top)\n",
    "\n",
    "----------"
   ]
  },
  {
   "cell_type": "markdown",
   "metadata": {},
   "source": [
    "<a id=\"basics\"></a>\n",
    "## 3. Programming Basics\n",
    "\n",
    "*Bottleneck: For social scientists who are new to Python, it can be difficult to find the right learning resources.  Web-based resources tend to fall along a spectrum, based on their authors' intended audience.  At one end of the spectrum are _true beginner_ tutorials, which cover the basic syntax and structure of a given programming language.  The programmer learns how to write very basic programs, but she isn't equipped to actually use it in her workflow without further guidance on identifying the appropriate tools and using the command line interface to install, manage, and perform tasks with the language.  At the other end of the spectrum are _advanced programmer_ tutorials and a host of other resources, such as software documentation, blog posts, and worked examples.  These resources tend to target programmers who already have a text-based workflow and in many cases experience with a different programming language.  The programmer can find this information easily on the web, but she then wastes valuable time deciphering all the technical jargon.*"
   ]
  },
  {
   "cell_type": "markdown",
   "metadata": {},
   "source": [
    "All programming languages share some common features, based on the most basic elements of computer architecture.  Below are the features most germane to the core elements of a social scientist's workflow: data collection, management, and analysis."
   ]
  },
  {
   "cell_type": "markdown",
   "metadata": {},
   "source": [
    "<a id=\"datatypes\"></a>\n",
    "### Data Types\n",
    "\n",
    "**Data types** are categories for storing different kinds of information in memory. Examples of data types include integers, floats (numbers with a fractional component), and characters.  Data types are analogous to word types (i.e., parts of speech) in spoken language.  Just as the English language has a system of rules for how verbs relate to nouns, Python has a system of rules governing how different types of data relate to each other.  Programming languages also use data types and data structures (discussed in the next section) to efficiently allocate the computer's working memory (RAM).\n",
    "\n",
    "##### How To: Peforming Operations\n",
    "The following operators have special meanings in Python."
   ]
  },
  {
   "cell_type": "code",
   "execution_count": null,
   "metadata": {},
   "outputs": [],
   "source": [
    "# Assignment Operators\n",
    "\n",
    "# = assign\n",
    "movie = 'Rogue One'\n",
    "print(movie)"
   ]
  },
  {
   "cell_type": "code",
   "execution_count": null,
   "metadata": {},
   "outputs": [],
   "source": [
    "# Assignment Operators\n",
    "\n",
    "# += add and assign\n",
    "i = 1\n",
    "i += 1\n",
    "print(i)"
   ]
  },
  {
   "cell_type": "code",
   "execution_count": null,
   "metadata": {},
   "outputs": [],
   "source": [
    "# String Operators\n",
    "\n",
    "# + concatenate\n",
    "print('A' + 'B')"
   ]
  },
  {
   "cell_type": "code",
   "execution_count": null,
   "metadata": {},
   "outputs": [],
   "source": [
    "# String Operators\n",
    "\n",
    "# * repeat\n",
    "print('me'*3)"
   ]
  },
  {
   "cell_type": "code",
   "execution_count": null,
   "metadata": {},
   "outputs": [],
   "source": [
    "# Comparison Operators\n",
    "\n",
    "# == equal\n",
    "print('a' == 'a')\n",
    "print('a' == 1)"
   ]
  },
  {
   "cell_type": "code",
   "execution_count": null,
   "metadata": {},
   "outputs": [],
   "source": [
    "# Comparison Operators\n",
    "\n",
    "# != not equal\n",
    "print(5 != 25/5)"
   ]
  },
  {
   "cell_type": "markdown",
   "metadata": {},
   "source": [
    "[Back to the top](#top)\n",
    "\n",
    "----------"
   ]
  },
  {
   "cell_type": "markdown",
   "metadata": {},
   "source": [
    "<a id=\"datastructures\"></a>\n",
    "### Data Structures\n",
    "\n",
    "Data structures are containers of data that are organized, formatted, and stored in a specific way.  In Python, data structures are also considered data types and referred to as **sequences**.  Examples of sequences include strings, lists, and dictionaries.\n",
    "\n",
    " - A **string** is an ordered sequence of characters, such as `happy`.\n",
    " - A **list** is an ordered sequence of items, such as `['Leia', 'Rey', 'Maz']`.  A list is always contained within brackets, `[]` and Python allows you to create an empty list.  Python has another data structure called a **tuple**, which is contained within parentheses `()`.  Though lists and tuples are similar, the elements of a list can be modified and the elements of a tuple cannot be modified.  The technical term for structures that can be modified is *mutability*.  \n",
    " - A **dictionary** is an *unordered* sequence of key-value pairs, such as `{'name': 'Kylo', 'side': 'dark'}`.  A dictionary is always contained within braces, `{}`.\n",
    "\n",
    "##### How To: Referencing Sequences\n",
    "Referencing the elements of a sequence depends on whether the sequence is *ordered* or *unordered*.  Elements within an ordered sequence are referenced by location.  Each item in the sequence has an index number, **starting with zero**.  Elements can also be referenced starting from the end of the sequence, using negative index numbers beginning with -1.  To access a range of elements, use the colon operator to retrieve the elements from the index to the left of the colon up to *but not including* the index to the right of the colon.  You can also omit an index to retrieve all the elements in that direction.\n",
    "\n",
    "Try to guess the output of the following commands prior to running the code."
   ]
  },
  {
   "cell_type": "code",
   "execution_count": null,
   "metadata": {},
   "outputs": [],
   "source": [
    "mystring = 'happy'\n",
    "print(mystring[0])\n",
    "print(mystring[2:4])\n",
    "print(mystring[3:])\n",
    "\n",
    "mylist = ['Leia', 'Rey', 'Maz']\n",
    "print(mylist[-1])"
   ]
  },
  {
   "cell_type": "markdown",
   "metadata": {},
   "source": [
    "The elements of a dictionary are unordered, so they cannot be referenced using index numbers.  Instead, the elements are accessed using the keys for the key-value pairs."
   ]
  },
  {
   "cell_type": "code",
   "execution_count": null,
   "metadata": {},
   "outputs": [],
   "source": [
    "mydict = {'name': 'Kylo', 'side': 'dark'}\n",
    "print(mydict['name'])"
   ]
  },
  {
   "cell_type": "markdown",
   "metadata": {},
   "source": [
    "[Back to the top](#top)\n",
    "\n",
    "----------"
   ]
  },
  {
   "cell_type": "markdown",
   "metadata": {},
   "source": [
    "<a id=\"controlstructures\"></a>\n",
    "### Control Structures\n",
    "\n",
    "Programming langues use logic to give the programmer control over how a program executes a command or set of commands.  Within Python, control structures are defined using **keywords**, **colons**, and **indentation**.  The code within a control structure must be indented by four spaces.  Many IDEs are configured to automatically indent the next line after a colon.  Programmers can also configure the Tab key on their keyboard to indent four spaces.  \n",
    "\n",
    "**Conditionals** are control structures that allow decision making within a program using the keywords **`if`**, **`elif`**, and **`else`**.  Python evaluates whether the logical statement after the keyword (e.g., `count >= 1`) is true and executes the commands within an indented block of code based on the result.  \n",
    "\n",
    "The general formula for a conditional is:\n",
    "\n",
    "```\n",
    "if <expression>:\n",
    "    <commands to execute if expression returns TRUE>\n",
    "```\n",
    "\n",
    "or\n",
    "\n",
    "```\n",
    "if <expression>:\n",
    "    <commands to execute if expression returns TRUE>\n",
    "else:\n",
    "    <commands to execute if expression returns FALSE>\n",
    "```\n",
    "\n",
    "or\n",
    "\n",
    "```\n",
    "if <expression1>:\n",
    "    <commands to execute if expression1 returns TRUE>\n",
    "elif <expression2>:\n",
    "    <commands to execute if expression2 returns TRUE>\n",
    "else:\n",
    "    <commands to execute if neither expression returns TRUE>\n",
    "```\n",
    "\n",
    "Python has a data type for `TRUE` and `FALSE` called a **Boolean**.  When Python encounters the **`if`** keyword, it expects the keyword to be followed by an expression that evaluates to a Boolean.  Therefore, it is unnecessary to include an additional comparison to `TRUE`.  For example, `'a' in 'happy'` returns `TRUE`, so `'a' in 'happy' == TRUE` is redundant."
   ]
  },
  {
   "cell_type": "code",
   "execution_count": null,
   "metadata": {},
   "outputs": [],
   "source": [
    "name = 'Grace Hopper'\n",
    "\n",
    "if len(name) < 20:\n",
    "    print('Yes')\n",
    "else:\n",
    "    print('No')"
   ]
  },
  {
   "cell_type": "markdown",
   "metadata": {},
   "source": [
    "**Loops** are control structures that allow repeated behavior within a program using the keywords **`for`** or **`while`**.  A **for loop** iterates through a sequence and executes the commands within the indented block until it reaches the end of the sequence.  A **while loop** is paired with a logical expression and executes the commands until the expression is no longer true.\n",
    "\n",
    "Most loops can be written using a for loop or a while loop.  Generally, for loops are used when the number of iterations is fixed (e.g., print each name in a list of names), and while loops are used when the number of iterations is unknown (e.g., ask the user to enter her password until she enters the correct password).  \n",
    "\n",
    "The general formula for a loop is:\n",
    "\n",
    "```\n",
    "for <item> in <sequence>:\n",
    "    <commands to execute>\n",
    "```\n",
    "\n",
    "or\n",
    "\n",
    "```\n",
    "while <expression>:\n",
    "    <commands to execute>\n",
    "    <modification to expression>\n",
    "```\n",
    "\n",
    "When using while loops, the programmer must build in a mechanism for the expression to eventually return `FALSE`.  Otherwise, the expression will always return `TRUE` and the loop will continue infinitely.  \n",
    "\n",
    "Try to predict the output of the following code before running it."
   ]
  },
  {
   "cell_type": "code",
   "execution_count": null,
   "metadata": {},
   "outputs": [],
   "source": [
    "# Example for loop\n",
    "\n",
    "name = 'Grace Hopper'\n",
    "\n",
    "i = 0\n",
    "for letter in name:\n",
    "    if letter in ['a', 'e', 'i', 'o', 'u']:\n",
    "        i = i + 1\n",
    "print(name + ' has ' + str(i) + ' vowels.')"
   ]
  },
  {
   "cell_type": "markdown",
   "metadata": {},
   "source": [
    "The preceding example highlights several important considerations when programming with Python.\n",
    "\n",
    "#### Variables\n",
    "\n",
    "Variables are used throughout control structures, whether explicitly defined (such as `i`) or implicitly defined (such as `letter`). Use short, informative variable names to make your code more readable and easier to debug. In the example above, the code tells Python to access each letter in a name, check whether the letter is in a list of vowels, increase `i` by 1 if the letter is a vowel, and print the number of vowels.<br><br>Notice that the following code produces the same result but is harder to understand. "
   ]
  },
  {
   "cell_type": "code",
   "execution_count": null,
   "metadata": {},
   "outputs": [],
   "source": [
    "# Example for loop with less informative variables\n",
    "\n",
    "y = 'Grace Hopper'\n",
    "\n",
    "i = 0\n",
    "for x in y:\n",
    "    if x in ['a', 'e', 'i', 'o', 'u']:\n",
    "        i = i + 1\n",
    "print(name + ' has ' + str(i) + ' vowels.')"
   ]
  },
  {
   "cell_type": "markdown",
   "metadata": {},
   "source": [
    "#### Indentation\n",
    "Python uses 4-space indentation to execute the commands within a given control structure.  The example includes both a for loop and a conditional, and the indentation is key to differentiating between the two.<br><br>The following code includes the original example with a slight change to the indentation.  Try to predict the output before running the code."
   ]
  },
  {
   "cell_type": "code",
   "execution_count": null,
   "metadata": {},
   "outputs": [],
   "source": [
    "# Example for loop with indentation change\n",
    "\n",
    "name = 'Grace Hopper'\n",
    "\n",
    "i = 0\n",
    "for letter in name:\n",
    "    if letter in ['a', 'e', 'i', 'o', 'u']:\n",
    "        i = i + 1\n",
    "    print(name + ' has ' + str(i) + ' vowels.')"
   ]
  },
  {
   "cell_type": "markdown",
   "metadata": {},
   "source": [
    "#### Overloading\n",
    "Python uses a set of rules for operating on data types.  Unlike some other programming languages, Python does not require the programmer to declare that a given variable has a specific data type.  Instead, Python examines the data type of the object assigned to the variable to determine how the operations should proceed.  Consider the command `a + b`.  If `a` and `b` are integers, Python will return the sum of the two integers.  If `a` and `b` are strings, Python will return the concatenation of the two strings.  The `+` operator is **overloaded** because it uses one interface (`+`) to perform the same type of function on different data types.  Overloading is more efficient than creating separate interfaces for similar functionality, but its use requires more care on the part of the programmer.  \n",
    "\n",
    "Try to figure out why the following code produces an error.  (Hint: What is the value of `i`?)"
   ]
  },
  {
   "cell_type": "code",
   "execution_count": null,
   "metadata": {},
   "outputs": [],
   "source": [
    "# Example for loop that produces an error\n",
    "\n",
    "name = 'Grace Hopper'\n",
    "\n",
    "i = 0\n",
    "for letter in name:\n",
    "    if letter in ['a', 'e', 'i', 'o', 'u']:\n",
    "        i = i + 1\n",
    "    print(name + ' has ' + i + ' vowels.')"
   ]
  },
  {
   "cell_type": "markdown",
   "metadata": {},
   "source": [
    "[Back to the top](#top)\n",
    "\n",
    "----------"
   ]
  },
  {
   "cell_type": "markdown",
   "metadata": {},
   "source": [
    "<a id=\"functions\"></a>\n",
    "### Functions and Methods\n",
    "\n",
    "A **function** is a named block of code used to execute a command or set of commands.  Functions can be defined to accept any number of inputs called **arguments**.  In this tutorial, we've already seen a couple functions, including `print()`, `len()`, and `str()`. The general syntax for calling a function is\n",
    "\n",
    "```\n",
    "function_name(argument1, argument 2, ...)\n",
    "```\n",
    "\n",
    "A **method** is a function with a built-in argument for the object being acted upon.  The general syntax for calling a method on a given object is\n",
    "\n",
    "```\n",
    "object.function_name(argument1, argument 2, ...)\n",
    "```\n"
   ]
  },
  {
   "cell_type": "code",
   "execution_count": null,
   "metadata": {
    "collapsed": true
   },
   "outputs": [],
   "source": [
    "# Example function\n",
    "\n",
    "my_string = 'aBcDe'\n",
    "print(my_string)\n",
    "\n",
    "# Example method\n",
    "print(my_string.lower())"
   ]
  },
  {
   "cell_type": "markdown",
   "metadata": {},
   "source": [
    "#### Writing Your Own Functions\n",
    "\n",
    "Python has many built-in functions and methods, but you can also write your own functions using the **`def`** keyword.  The general syntax for a function definition is\n",
    "\n",
    "```\n",
    "def function_name(argument1, ...):\n",
    "    command to execute with <argument1>\n",
    "    .\n",
    "    .\n",
    "    .\n",
    "    return <object>\n",
    "```\n",
    "Note that both arguments and return objects are optional."
   ]
  },
  {
   "cell_type": "code",
   "execution_count": null,
   "metadata": {
    "collapsed": true
   },
   "outputs": [],
   "source": [
    "# Example function\n",
    "\n",
    "def say_hello(name_string):\n",
    "    print('Hello, ' + str(name_string) + '!')\n",
    "    return None\n",
    "\n",
    "say_hello('NaLette')"
   ]
  },
  {
   "cell_type": "markdown",
   "metadata": {},
   "source": [
    "[Back to the top](#top)\n",
    "\n",
    "----------"
   ]
  },
  {
   "cell_type": "markdown",
   "metadata": {},
   "source": [
    "<a id=\"files\"></a>\n",
    "## 4. Working with Files\n",
    "*Bottleneck: Many learning resources provide information about using Python, but do not provide the programmer with an opportunity to put all the pieces together.  It is important to provide social scientists who are new to Python with a soup-to-nuts example of how a Python workflow can be set up.  They can then adapt that workflow to their needs.*\n",
    "\n",
    "\n",
    "Creating, accessing, and manipulating files are among the most basic tasks that a programmer will do with Python.  In this section, we will work through an example to demonstrate different options for working with files.  If you are following this tutorial using your own installation of Python, you need to download the [kipling_jungle_book.txt](https://raw.githubusercontent.com/nmbrodnax/python-social-science/master/kipling_jungle_book.txt) file.  All code for this section can be found in the [workshop.py](https://raw.githubusercontent.com/nmbrodnax/python-social-science/master/workshop.py) file.\n",
    "\n",
    "What do we want to do?\n",
    "1. Ask the user for the name of a text file using the `input()` function. Note: `input()` accepts and returns a string and accepts an optional prompt argument.\n",
    "2. Ask the user for the number of lines to display using the `input()` function.\n",
    "3. Convert the number of lines to an integer using the `int()` function.\n",
    "4. Display that number of lines from the file using the `print()` function.\n",
    "\n",
    "<a id='open'></a>\n",
    "### Using `open()` and `.close()`\n",
    "\n",
    "The `open()` function creates a special type of Python object that contains tools for moving through a file.  Once a file has been opened and the tasks have been completed, this **file object** must be closed using the `.close()` method.  "
   ]
  },
  {
   "cell_type": "code",
   "execution_count": null,
   "metadata": {
    "collapsed": true
   },
   "outputs": [],
   "source": [
    "# Example using open()\n",
    "\n",
    "print('What file should I read from?')\n",
    "filename = input('> ')\n",
    "\n",
    "print('How many lines should I read?')\n",
    "lines_to_read = input('>')\n",
    "\n",
    "line_counter = 0\n",
    "file = open(filename, 'r')\n",
    "while line_counter < int(lines_to_read):\n",
    "     print(file.readline())\n",
    "     line_counter = line_counter + 1\n",
    "file.close()\n",
    "print(str(line_counter) + \" lines read\\n\")"
   ]
  },
  {
   "cell_type": "markdown",
   "metadata": {},
   "source": [
    "[Back to the top](#top)\n",
    "\n",
    "----------"
   ]
  },
  {
   "cell_type": "markdown",
   "metadata": {},
   "source": [
    "<a id='withopen'></a>\n",
    "### Using `with open()`\n",
    "\n",
    "Opening a file using the keyword **`with`** and the `open()` function has the added benefit of automatically closing the file once the commands in the `with` block have been executed."
   ]
  },
  {
   "cell_type": "code",
   "execution_count": null,
   "metadata": {
    "collapsed": true
   },
   "outputs": [],
   "source": [
    "# Example using with open()\n",
    "\n",
    "print('What file should I read from?')\n",
    "filename = input('> ')\n",
    "\n",
    "print('How many lines should I read?')\n",
    "lines_to_read = input('>')\n",
    "\n",
    "line_counter = 0\n",
    "with open(filename, 'r') as file:\n",
    "     while line_counter < int(lines_to_read):\n",
    "         print(file.readline())\n",
    "         line_counter += 1\n",
    "print(str(line_counter) + \" lines read\\n\")"
   ]
  },
  {
   "cell_type": "markdown",
   "metadata": {},
   "source": [
    "[Back to the top](#top)\n",
    "\n",
    "----------"
   ]
  },
  {
   "cell_type": "markdown",
   "metadata": {},
   "source": [
    "<a id=\"csv\"></a>\n",
    "### Using the `csv` module\n",
    "\n",
    "While many functions come built in, Python has a number of separate modules that you can **import** into your current Python session.  These modules contain additional functions that you can use in your workflow.  As programming jargon goes, the terms **module**, **package**, and **library** have different meanings, but you'll often see them used interchangeably to represent Python functionality that comes from outside the base functionality.  Programmers can create their own libraries and publish them for use by others.  Python's programmer community, along with the numerous libraries available to the public, make it one of the most popular programming langues. \n",
    "\n",
    "In this example, we will import the csv module using the **import** keyword.  All functions available within the `csv` module become available for use in the program.  If a function has the same name as another function already available in Python, then the programmer must use the function as a method of the module (e.g., `csv.writer()`) so that Python can differentiate between the two."
   ]
  },
  {
   "cell_type": "markdown",
   "metadata": {},
   "source": [
    "```python\n",
    "# Example header for opening two files at once\n",
    "import csv\n",
    "\n",
    "with open(\"workshop.csv\", 'w') as csvfile, open(filename, 'r') as txtfile:\n",
    "    writer = csv.writer(csvfile)\n",
    "```"
   ]
  },
  {
   "cell_type": "markdown",
   "metadata": {},
   "source": [
    "### Example: Creating a CSV file\n",
    "The example below integrates many of the topics discussed in the tutorial.  Work through the example on your own."
   ]
  },
  {
   "cell_type": "code",
   "execution_count": null,
   "metadata": {
    "collapsed": true
   },
   "outputs": [],
   "source": [
    "# A function to count the number of words in a phrase\n",
    "\n",
    "def count_words(mytext):\n",
    "     \"\"\"Returns the number of words in a string\n",
    "     str -> int\"\"\"\n",
    "     words = mytext.split(\" \")\n",
    "     return len(words)\n",
    "\n",
    "print(count_words(\"I am going to learn Python programming.\"))"
   ]
  },
  {
   "cell_type": "code",
   "execution_count": null,
   "metadata": {
    "collapsed": true
   },
   "outputs": [],
   "source": [
    "# A function to get the length of the longest word in a phrase\n",
    "\n",
    "def longest_word_length(mytext):\n",
    "    \"\"\"Returns the length of the longest word in a string\n",
    "    str -> int\"\"\"\n",
    "    words = mytext.split(\" \")\n",
    "    word_lengths = []\n",
    "    for word in words:\n",
    "        word_lengths.append(len(word))\n",
    "    return max(word_lengths)\n",
    "\n",
    "print(longest_word_length(\"I am going to learn Python programming\"))"
   ]
  },
  {
   "cell_type": "code",
   "execution_count": null,
   "metadata": {
    "collapsed": true
   },
   "outputs": [],
   "source": [
    "# Example script to create a csv file with information from a file\n",
    "\n",
    "import csv\n",
    "\n",
    "with open(\"workshop.csv\", 'w') as csvfile, \\\n",
    "     open(filename, 'r') as txtfile:\n",
    "        writer = csv.writer(csvfile)\n",
    "        writer.writerow([\"line number\", \"word count\", \"longest word\"]) \n",
    "        line_counter = 0\n",
    "        while line_counter < int(lines_to_read):\n",
    "            line_number = line_counter + 1\n",
    "            content = txtfile.readline()\n",
    "            word_count = count_words(content)\n",
    "            longest_word = longest_word_length(content) \n",
    "            writer.writerow([line_number, word_count, longest_word]) \n",
    "            line_counter += 1"
   ]
  },
  {
   "cell_type": "markdown",
   "metadata": {},
   "source": [
    "[Back to the top](#top)\n",
    "\n",
    "----------"
   ]
  },
  {
   "cell_type": "markdown",
   "metadata": {},
   "source": [
    "\n"
   ]
  }
 ],
 "metadata": {
  "kernelspec": {
   "display_name": "Python 3",
   "language": "python",
   "name": "python3"
  },
  "language_info": {
   "codemirror_mode": {
    "name": "ipython",
    "version": 3
   },
   "file_extension": ".py",
   "mimetype": "text/x-python",
   "name": "python",
   "nbconvert_exporter": "python",
   "pygments_lexer": "ipython3",
   "version": "3.6.2"
  }
 },
 "nbformat": 4,
 "nbformat_minor": 2
}
