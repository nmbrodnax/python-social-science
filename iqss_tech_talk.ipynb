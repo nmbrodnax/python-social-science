{
 "cells": [
  {
   "cell_type": "markdown",
   "metadata": {},
   "source": [
    "# Python as a Tool for Social Scientists\n",
    "[NaLette Brodnax](http://www.nalettebrodnax.com), Postdoctoral Fellow, [IQSS](http://iq.harvard.edu)<br>\n",
    "[nbrodnax@iq.harvard.edu](mailto:nbrodnax@iq.harvard.edu)\n",
    "August 24, 2017\n",
    "\n",
    "## Introduction\n",
    "This guide is a discussion of ways to introduce social scientists to Python as a tool for computational social science.\n",
    "\n",
    "#### My Goals\n",
    "\n",
    " * Demystify programming\n",
    " * Introduce common functions\n",
    " * Write useful programs\n",
    " \n",
    "#### Your Goals\n",
    "Complete the one-minute survey at [future link to survey](https://www.nalettebrodnax.com).\n",
    "\n",
    "#### What is Python?\n",
    "Python is a general purpose programming language.  It is easy to learn, highly readable, powerful and flexible.\n",
    "\n",
    "#### When should you use Python?\n",
    "Programming should help you be more **efficient**.\n",
    "\n",
    "Social scientists can use Python for countless applications:\n",
    "\n",
    " * Data collection\n",
    " * Data cleaning\n",
    " * Data analysis\n",
    " * Visualization\n",
    " * Automation\n",
    " "
   ]
  },
  {
   "cell_type": "markdown",
   "metadata": {},
   "source": [
    "## Getting the Tools \n",
    "Bottleneck: Many social scientists' access programs and files by using a mouse to navigate a graphical user interface.  Shifting from a point-and-click workflow to a text-based workflow can be a difficult transition for new Python users.  For a more detailed discussion, see Kieran Healy's [The Plain Person's Guide to Plain-Text Social Science](http://plain-text.co).\n",
    "\n",
    "#### Python Interpreter for Conversing in Python\n",
    "The Python **interpreter** is an interface between you and the underlying software that translates and responds to your Python commands.  When using the interpreter, you type Python commands directly into a console (windwo) and the console displays a response.  You may see  people refer to an interpreter as an **interactive shell** or a **REPL** (Read-Evaluate-Print Loop).  You can install Python, which comes with the interpreter, from the [Python Software Foundation](https://www.python.org/) or from \n",
    "\n",
    "#### Text Editor for Writing Programs\n",
    "A text editor is a tool that you can use to write commands in plain, unprocessed text.  All operating systems include a basic text editor, such as NotePad or TextEdit.  Social scientists using Python and other programming languages can use a text editor to store a set of commands.\n",
    "\n",
    "#### Command Line Interface for Interacting with Your OS\n",
    "Every operating system has a special interpreter that allows the user to interact with the system through text-based commands.  The **command line interface** can be used to access any programs or files available to the user. This text-based approach is generally more flexible and more powerful than using . \n",
    "\n",
    "#### _Mise En Place_: Integrated Development Environments\n",
    "A piece of software that combines an interpreter, text editor, and command line into an easily navigable user interface is called an **integrated development environment (IDE)**.  An IDE might also include additional tools such as a file browser or version control integration. If you install Python using installers from the [Python Software Foundation](https://www.python.org/), the installation will include a basic IDE called IDLE.\n",
    "\n",
    "#### Installing the Tools\n"
   ]
  },
  {
   "cell_type": "markdown",
   "metadata": {},
   "source": [
    "## First Steps\n",
    "\n",
    "#### Try the Python Interpreter"
   ]
  },
  {
   "cell_type": "code",
   "execution_count": 2,
   "metadata": {},
   "outputs": [
    {
     "name": "stdout",
     "output_type": "stream",
     "text": [
      "Hello, world.\n"
     ]
    }
   ],
   "source": [
    "print('Hello, world.')"
   ]
  },
  {
   "cell_type": "markdown",
   "metadata": {},
   "source": [
    "#### Create and run your first script\n",
    "\n",
    "1. Using your text editor (or the editor within your IDE), create a file named _myscript.py_.\n",
    "\n",
    "2. On the first line of the text file, type<br> ```# My first Python script```<br> Python will recognize any line beginning with `#` as a comment and will ignore it when executing the commands in your script. Comment meaningfully and liberally--doing so makes your work easier to understand when you or your collaborators revisit the script in the future.\n",
    "\n",
    "3. On the second line, type<br>`print('Hello, world.')`\n",
    "\n",
    "4. Run the script, either from the IDE or from the command line."
   ]
  },
  {
   "cell_type": "code",
   "execution_count": null,
   "metadata": {
    "collapsed": true
   },
   "outputs": [],
   "source": [
    "# Example using IDLE"
   ]
  },
  {
   "cell_type": "code",
   "execution_count": null,
   "metadata": {
    "collapsed": true
   },
   "outputs": [],
   "source": [
    "# Example using CLI"
   ]
  },
  {
   "cell_type": "markdown",
   "metadata": {},
   "source": [
    "## Programming Basics\n",
    "Bottleneck: For social scientists who are new to Python, existing learning resources are often inadequate.  These resources fall along a spectrum, based on their authors' intended audience.  At one end of the spectrum are _true beginner_ tutorials, which cover the basic syntax and structure of a given programming language.  The user learns how to write very basic programs, but she isn't equipped to actually use it in her workflow without further guidance on identifying the appropriate tools and using the command line interface to install, manage, and perform tasks with the language.  At the other end of the spectrum are _advanced user_ tutorials and a host of other resources, such as software documentation, blog posts, and worked examples.  These resources tend to target programmers who already have a text-based workflow and in many cases experience with a different programming language.  The user can find this information easily on the web, but she then wastes valuable time deciphering all the technical jargon.  "
   ]
  },
  {
   "cell_type": "markdown",
   "metadata": {},
   "source": [
    "### A Few Programming Language Features\n",
    "All programming languages share some common features, based on the most basic elements of computer architecture.  Below are the features most germane to the core elements of a social scientist's workflow: data collection, management, and analysis."
   ]
  },
  {
   "cell_type": "markdown",
   "metadata": {},
   "source": [
    "#### Data Types\n",
    "**Data types** are categories for storing different kinds of information in memory. Examples of data types include integers, floats (numbers with a fractional component), and characters.  Data types are analogous to word types (i.e., parts of speech) in spoken language.  Just as the English language has a system of rules for how verbs relate to nouns, Python has a system of rules governing how different types of data relate to each other.  Programming languages also use data types and data structures (discussed in the next section) to efficiently allocate the computer's working memory (RAM).\n",
    "\n",
    "##### How To: Peforming Operations\n",
    "The following operators have special meaning in Python."
   ]
  },
  {
   "cell_type": "code",
   "execution_count": 4,
   "metadata": {},
   "outputs": [
    {
     "name": "stdout",
     "output_type": "stream",
     "text": [
      "Rogue One\n"
     ]
    }
   ],
   "source": [
    "# Assignment Operators\n",
    "\n",
    "# = assign\n",
    "movie = 'Rogue One'\n",
    "print(movie)"
   ]
  },
  {
   "cell_type": "code",
   "execution_count": 5,
   "metadata": {},
   "outputs": [
    {
     "name": "stdout",
     "output_type": "stream",
     "text": [
      "2\n"
     ]
    }
   ],
   "source": [
    "# Assignment Operators\n",
    "\n",
    "# += add and assign\n",
    "i = 1\n",
    "i += 1\n",
    "print(i)"
   ]
  },
  {
   "cell_type": "code",
   "execution_count": 6,
   "metadata": {},
   "outputs": [
    {
     "name": "stdout",
     "output_type": "stream",
     "text": [
      "AB\n"
     ]
    }
   ],
   "source": [
    "# String Operators\n",
    "\n",
    "# + concatenate\n",
    "print('A' + 'B')"
   ]
  },
  {
   "cell_type": "code",
   "execution_count": 7,
   "metadata": {},
   "outputs": [
    {
     "name": "stdout",
     "output_type": "stream",
     "text": [
      "mememe\n"
     ]
    }
   ],
   "source": [
    "# String Operators\n",
    "\n",
    "# * repeat\n",
    "print('me'*3)"
   ]
  },
  {
   "cell_type": "code",
   "execution_count": 8,
   "metadata": {},
   "outputs": [
    {
     "name": "stdout",
     "output_type": "stream",
     "text": [
      "True\n",
      "False\n"
     ]
    }
   ],
   "source": [
    "# Comparison Operators\n",
    "\n",
    "# == equal\n",
    "print('a' == 'a')\n",
    "print('a' == 1)"
   ]
  },
  {
   "cell_type": "code",
   "execution_count": 9,
   "metadata": {},
   "outputs": [
    {
     "name": "stdout",
     "output_type": "stream",
     "text": [
      "False\n"
     ]
    }
   ],
   "source": [
    "# Comparison Operators\n",
    "\n",
    "# != not equal\n",
    "print(5 != 25/5)"
   ]
  },
  {
   "cell_type": "markdown",
   "metadata": {},
   "source": [
    "#### Data Structures: Sequences\n",
    "Data structures are collections of data that are organized, formatted, and stored in a specific way.  In Python, data structures are also considered data types and referred to as **sequences**.  Examples of sequences include strings, lists, and dictionaries.\n",
    "\n",
    " - A **string** is an ordered sequence of characters, such as `happy`.\n",
    " - A **list** is an ordered sequence of items, such as `['Leia', 'Rey', 'Maz']`.  A list is always contained within brackets, `[]` and Python allows you to create an empty list.  Python has another data structure called a **tuple**, which is contained within parentheses `()`.  Though lists and tuples are similar, the elements of a list can be modified and the elements of a tuple cannot be modified.  The technical term for structures that can be modified is *mutability*.  \n",
    " - A **dictionary** is an *unordered* sequence of key-value pairs, such as `{'name': 'Kylo', 'side': 'dark'}`.  A dictionary is always contained within braces, `{}`.\n",
    "\n",
    "##### How To: Referencing Sequences\n",
    "Referencing the elements of a sequence depends on whether the sequence is *ordered* or *unordered*.  Elements within an ordered sequence are referenced by location.  Each item in the sequence has an index number, starting with zero.  Elements can also be referenced starting from the end of the sequence, using negative index numbers beginning with -1.  To access a range of elements, use the colon operator to retrieve the elements from the index to the left of the colon up to *but not including* the index to the right of the colon.  You can also omit an index to retrieve all the elements in that direction.\n",
    "\n",
    "Try to guess the output of the following commands prior to running the code."
   ]
  },
  {
   "cell_type": "code",
   "execution_count": 3,
   "metadata": {},
   "outputs": [
    {
     "name": "stdout",
     "output_type": "stream",
     "text": [
      "h\n",
      "pp\n",
      "py\n",
      "Maz\n"
     ]
    }
   ],
   "source": [
    "mystring = 'happy'\n",
    "print(mystring[0])\n",
    "print(mystring[2:4])\n",
    "print(mystring[3:])\n",
    "\n",
    "mylist = ['Leia', 'Rey', 'Maz']\n",
    "print(mylist[-1])"
   ]
  },
  {
   "cell_type": "markdown",
   "metadata": {},
   "source": [
    "The elements of a dictionary are unordered, so they cannot be referenced using index numbers.  Instead, the elements are accessed using the keys for the key-value pairs."
   ]
  },
  {
   "cell_type": "code",
   "execution_count": 4,
   "metadata": {},
   "outputs": [
    {
     "name": "stdout",
     "output_type": "stream",
     "text": [
      "Kylo\n"
     ]
    }
   ],
   "source": [
    "mydict = {'name': 'Kylo', 'side': 'dark'}\n",
    "print(mydict['name'])"
   ]
  },
  {
   "cell_type": "markdown",
   "metadata": {},
   "source": [
    "#### Logic\n",
    "\n",
    "Programming langues use logic to give the user control over how a program executes particular commands.  **Conditionals** are control structures that allow decision making within a program.  **Loops** are control structures that allow repeated behavior within a program.\n",
    "\n",
    "##### How To: Using Logic Syntax\n",
    "Both conditionals and loops use keywords, expressions, colons, and indentation.  The general formula for a conditional is:\n",
    "\n",
    "```\n",
    "if <expression to evaluate>:\n",
    "    <commands to execute if expression evaluates to true>\n",
    "```\n",
    "\n",
    "or\n",
    "\n",
    "```\n",
    "if <expression to evaluate>:\n",
    "    <commands to execute if expression evaluates to true>\n",
    "else:\n",
    "    <commands to execute if expression evaluates to false>\n",
    "```\n",
    "\n",
    "The **keyword** appears at the beginning of the block of code, followed by an expression to\n",
    "\n",
    "Keywords\n",
    "\n",
    "Expressions\n",
    "\n",
    "Colons\n",
    "\n",
    "Indentation"
   ]
  },
  {
   "cell_type": "markdown",
   "metadata": {},
   "source": [
    "\n"
   ]
  }
 ],
 "metadata": {
  "kernelspec": {
   "display_name": "Python 3",
   "language": "python",
   "name": "python3"
  },
  "language_info": {
   "codemirror_mode": {
    "name": "ipython",
    "version": 3
   },
   "file_extension": ".py",
   "mimetype": "text/x-python",
   "name": "python",
   "nbconvert_exporter": "python",
   "pygments_lexer": "ipython3",
   "version": "3.6.2"
  }
 },
 "nbformat": 4,
 "nbformat_minor": 2
}
